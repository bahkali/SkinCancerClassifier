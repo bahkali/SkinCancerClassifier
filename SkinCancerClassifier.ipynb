{
  "nbformat": 4,
  "nbformat_minor": 0,
  "metadata": {
    "colab": {
      "name": "SkinCancerClassifier.ipynb",
      "provenance": [],
      "toc_visible": true,
      "authorship_tag": "ABX9TyMz676K6Wn69wbXHyKd9hxV",
      "include_colab_link": true
    },
    "kernelspec": {
      "name": "python3",
      "display_name": "Python 3"
    },
    "accelerator": "GPU"
  },
  "cells": [
    {
      "cell_type": "markdown",
      "metadata": {
        "id": "view-in-github",
        "colab_type": "text"
      },
      "source": [
        "<a href=\"https://colab.research.google.com/github/bahkali/SkinCancerClassifier/blob/main/SkinCancerClassifier.ipynb\" target=\"_parent\"><img src=\"https://colab.research.google.com/assets/colab-badge.svg\" alt=\"Open In Colab\"/></a>"
      ]
    },
    {
      "cell_type": "code",
      "metadata": {
        "id": "FPnMPg4orl7a"
      },
      "source": [
        ""
      ],
      "execution_count": null,
      "outputs": []
    },
    {
      "cell_type": "markdown",
      "metadata": {
        "id": "YrI62pF-r1kM"
      },
      "source": [
        "# Classifier Skin Cancer \r\n",
        " using dataset from ISIC 2019 to determine if image of skin is either bengin (Unharmful) or if it is maligmant ( actually cancer). \r\n",
        "## 1. Purpose\r\n",
        "The goal is to implement the multi-classifier model to Flutter app for : Android or Ios  to identifie 9 skin cancer .\r\n",
        "\r\n",
        "## 2. Data\r\n",
        "Dataset:\r\n",
        "https://www.kaggle.com/nodoubttome/skin-cancer9-classesisic\r\n",
        "\r\n",
        "\r\n",
        "9 floder:\r\n",
        "  - actinic keratosis\r\n",
        "  - basal cell carcinoma\r\n",
        "  - dermatofibroma\r\n",
        "  - melanoma\r\n",
        "  - nevus\r\n",
        "  - pigmented benign keratosis seborrheic  keratosis\r\n",
        "  - squamous cell carcinoma\r\n",
        "  - vascular lesion\r\n",
        "\r\n",
        "\r\n",
        "\r\n"
      ]
    },
    {
      "cell_type": "code",
      "metadata": {
        "colab": {
          "base_uri": "https://localhost:8080/"
        },
        "id": "qOz8kgkR1Dez",
        "outputId": "dd6455a9-ebd0-419c-d417-832a3208f577"
      },
      "source": [
        "# Mount google Drive where dataset is store\r\n",
        "from google.colab import  drive\r\n",
        "drive.mount('/gdrive')"
      ],
      "execution_count": 2,
      "outputs": [
        {
          "output_type": "stream",
          "text": [
            "Drive already mounted at /gdrive; to attempt to forcibly remount, call drive.mount(\"/gdrive\", force_remount=True).\n"
          ],
          "name": "stdout"
        }
      ]
    },
    {
      "cell_type": "code",
      "metadata": {
        "id": "mLheDrvO2kN_"
      },
      "source": [
        "path = \"gdrive/MyDrive/Colab Notbooks/end-to-end-skin-cancer/\"\r\n",
        "ds_directory = path + \"datasets/Skin-Cancer/\"\r\n",
        "train = ds_directory + \"Train/\"\r\n",
        "test = ds_directory + \"Test/\""
      ],
      "execution_count": null,
      "outputs": []
    }
  ]
}